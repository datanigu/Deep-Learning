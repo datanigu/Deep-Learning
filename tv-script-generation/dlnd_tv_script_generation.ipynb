{
 "cells": [
  {
   "cell_type": "markdown",
   "metadata": {},
   "source": [
    "# TV Script Generation\n",
    "In this project, you'll generate your own [Simpsons](https://en.wikipedia.org/wiki/The_Simpsons) TV scripts using RNNs.  You'll be using part of the [Simpsons dataset](https://www.kaggle.com/wcukierski/the-simpsons-by-the-data) of scripts from 27 seasons.  The Neural Network you'll build will generate a new TV script for a scene at [Moe's Tavern](https://simpsonswiki.com/wiki/Moe's_Tavern).\n",
    "## Get the Data\n",
    "The data is already provided for you.  You'll be using a subset of the original dataset.  It consists of only the scenes in Moe's Tavern.  This doesn't include other versions of the tavern, like \"Moe's Cavern\", \"Flaming Moe's\", \"Uncle Moe's Family Feed-Bag\", etc.."
   ]
  },
  {
   "cell_type": "code",
   "execution_count": 49,
   "metadata": {},
   "outputs": [],
   "source": [
    "\"\"\"\n",
    "DON'T MODIFY ANYTHING IN THIS CELL\n",
    "\"\"\"\n",
    "import helper\n",
    "\n",
    "data_dir = './data/simpsons/moes_tavern_lines.txt'\n",
    "text = helper.load_data(data_dir)\n",
    "# Ignore notice, since we don't use it for analysing the data\n",
    "text = text[81:]"
   ]
  },
  {
   "cell_type": "markdown",
   "metadata": {},
   "source": [
    "## Explore the Data\n",
    "Play around with `view_sentence_range` to view different parts of the data."
   ]
  },
  {
   "cell_type": "code",
   "execution_count": 50,
   "metadata": {},
   "outputs": [
    {
     "name": "stdout",
     "output_type": "stream",
     "text": [
      "Dataset Stats\n",
      "Roughly the number of unique words: 11492\n",
      "Number of scenes: 262\n",
      "Average number of sentences in each scene: 15.248091603053435\n",
      "Number of lines: 4257\n",
      "Average number of words in each line: 11.50434578341555\n",
      "\n",
      "The sentences 0 to 15:\n",
      "Moe_Szyslak: (INTO PHONE) Moe's Tavern. Where the elite meet to drink.\n",
      "Bart_Simpson: Eh, yeah, hello, is Mike there? Last name, Rotch.\n",
      "Moe_Szyslak: (INTO PHONE) Hold on, I'll check. (TO BARFLIES) Mike Rotch. Mike Rotch. Hey, has anybody seen Mike Rotch, lately?\n",
      "Moe_Szyslak: (INTO PHONE) Listen you little puke. One of these days I'm gonna catch you, and I'm gonna carve my name on your back with an ice pick.\n",
      "Moe_Szyslak: What's the matter Homer? You're not your normal effervescent self.\n",
      "Homer_Simpson: I got my problems, Moe. Give me another one.\n",
      "Moe_Szyslak: Homer, hey, you should not drink to forget your problems.\n",
      "Barney_Gumble: Yeah, you should only drink to enhance your social skills.\n",
      "\n",
      "\n",
      "Moe_Szyslak: Ah, isn't that nice. Now, there is a politician who cares.\n",
      "Barney_Gumble: If I ever vote, it'll be for him. (BELCH)\n",
      "\n",
      "\n",
      "Barney_Gumble: Hey Homer, how's your neighbor's store doing?\n"
     ]
    }
   ],
   "source": [
    "view_sentence_range = (0, 15)\n",
    "\n",
    "\"\"\"\n",
    "DON'T MODIFY ANYTHING IN THIS CELL\n",
    "\"\"\"\n",
    "import numpy as np\n",
    "\n",
    "print('Dataset Stats')\n",
    "print('Roughly the number of unique words: {}'.format(len({word: None for word in text.split()})))\n",
    "scenes = text.split('\\n\\n')\n",
    "print('Number of scenes: {}'.format(len(scenes)))\n",
    "sentence_count_scene = [scene.count('\\n') for scene in scenes]\n",
    "print('Average number of sentences in each scene: {}'.format(np.average(sentence_count_scene)))\n",
    "\n",
    "sentences = [sentence for scene in scenes for sentence in scene.split('\\n')]\n",
    "print('Number of lines: {}'.format(len(sentences)))\n",
    "word_count_sentence = [len(sentence.split()) for sentence in sentences]\n",
    "print('Average number of words in each line: {}'.format(np.average(word_count_sentence)))\n",
    "\n",
    "print()\n",
    "print('The sentences {} to {}:'.format(*view_sentence_range))\n",
    "print('\\n'.join(text.split('\\n')[view_sentence_range[0]:view_sentence_range[1]]))"
   ]
  },
  {
   "cell_type": "markdown",
   "metadata": {},
   "source": [
    "## Implement Preprocessing Functions\n",
    "The first thing to do to any dataset is preprocessing.  Implement the following preprocessing functions below:\n",
    "- Lookup Table\n",
    "- Tokenize Punctuation\n",
    "\n",
    "### Lookup Table\n",
    "To create a word embedding, you first need to transform the words to ids.  In this function, create two dictionaries:\n",
    "- Dictionary to go from the words to an id, we'll call `vocab_to_int`\n",
    "- Dictionary to go from the id to word, we'll call `int_to_vocab`\n",
    "\n",
    "Return these dictionaries in the following tuple `(vocab_to_int, int_to_vocab)`"
   ]
  },
  {
   "cell_type": "code",
   "execution_count": 51,
   "metadata": {},
   "outputs": [
    {
     "name": "stdout",
     "output_type": "stream",
     "text": [
      "Tests Passed\n"
     ]
    }
   ],
   "source": [
    "import numpy as np\n",
    "import problem_unittests as tests\n",
    "from collections import Counter\n",
    "\n",
    "def create_lookup_tables(text):\n",
    "    \"\"\"\n",
    "    Create lookup tables for vocabulary\n",
    "    :param text: The text of tv scripts split into words\n",
    "    :return: A tuple of dicts (vocab_to_int, int_to_vocab)\n",
    "    \"\"\"\n",
    "    # TODO: Implement Function\n",
    "    count_words = Counter(text)\n",
    "    vocab = sorted(count_words,key = count_words.get,reverse=True)#sorting the counts so that the most common word will get the smallest value in the vocab_to_int dictionary\n",
    "    vocab_to_int={}#vocabulary word is the key, the interger is the value\n",
    "    for count,word in enumerate(vocab):\n",
    "        vocab_to_int[word] = count\n",
    "\n",
    "    int_to_vocab={}#integer to vocab dictionary\n",
    "    for key,value in vocab_to_int.items():\n",
    "        int_to_vocab[value]=key\n",
    "    return (vocab_to_int, int_to_vocab)\n",
    "\n",
    "\n",
    "\"\"\"\n",
    "DON'T MODIFY ANYTHING IN THIS CELL THAT IS BELOW THIS LINE\n",
    "\"\"\"\n",
    "tests.test_create_lookup_tables(create_lookup_tables)"
   ]
  },
  {
   "cell_type": "code",
   "execution_count": 52,
   "metadata": {},
   "outputs": [
    {
     "name": "stdout",
     "output_type": "stream",
     "text": [
      "307\n",
      "<exlamation_mark>\n"
     ]
    }
   ],
   "source": [
    "print(vocab_to_int['simpson'])\n",
    "print(int_to_vocab[8])"
   ]
  },
  {
   "cell_type": "markdown",
   "metadata": {},
   "source": [
    "### Tokenize Punctuation\n",
    "We'll be splitting the script into a word array using spaces as delimiters.  However, punctuations like periods and exclamation marks make it hard for the neural network to distinguish between the word \"bye\" and \"bye!\".\n",
    "\n",
    "Implement the function `token_lookup` to return a dict that will be used to tokenize symbols like \"!\" into \"||Exclamation_Mark||\".  Create a dictionary for the following symbols where the symbol is the key and value is the token:\n",
    "- Period ( . )\n",
    "- Comma ( , )\n",
    "- Quotation Mark ( \" )\n",
    "- Semicolon ( ; )\n",
    "- Exclamation mark ( ! )\n",
    "- Question mark ( ? )\n",
    "- Left Parentheses ( ( )\n",
    "- Right Parentheses ( ) )\n",
    "- Dash ( -- )\n",
    "- Return ( \\n )\n",
    "\n",
    "This dictionary will be used to token the symbols and add the delimiter (space) around it.  This separates the symbols as it's own word, making it easier for the neural network to predict on the next word. Make sure you don't use a token that could be confused as a word. Instead of using the token \"dash\", try using something like \"||dash||\"."
   ]
  },
  {
   "cell_type": "code",
   "execution_count": 53,
   "metadata": {},
   "outputs": [
    {
     "name": "stdout",
     "output_type": "stream",
     "text": [
      "Tests Passed\n"
     ]
    }
   ],
   "source": [
    "def token_lookup():\n",
    "    \"\"\"\n",
    "    Generate a dict to turn punctuation into a token.\n",
    "    :return: Tokenize dictionary where the key is the punctuation and the value is the token\n",
    "    \"\"\"\n",
    "    # TODO: Implement Function\n",
    "    punc_words = ['<period>','<comma>','<quotation_mark>','<semicolon>','<exlamation_mark>','<question_mark>','<left_parentheses>','<right_parentheses>','<dash>','<return>']\n",
    "    punc_symbols = ['.',',','\"',';','!','?','(',')','--','\\n']\n",
    "    \n",
    "    punct_dict = dict(zip(punc_symbols,punc_words))\n",
    "    return punct_dict\n",
    "\n",
    "\"\"\"\n",
    "DON'T MODIFY ANYTHING IN THIS CELL THAT IS BELOW THIS LINE\n",
    "\"\"\"\n",
    "tests.test_tokenize(token_lookup)"
   ]
  },
  {
   "cell_type": "markdown",
   "metadata": {},
   "source": [
    "## Preprocess all the data and save it\n",
    "Running the code cell below will preprocess all the data and save it to file."
   ]
  },
  {
   "cell_type": "code",
   "execution_count": 54,
   "metadata": {},
   "outputs": [],
   "source": [
    "\"\"\"\n",
    "DON'T MODIFY ANYTHING IN THIS CELL\n",
    "\"\"\"\n",
    "# Preprocess Training, Validation, and Testing Data\n",
    "helper.preprocess_and_save_data(data_dir, token_lookup, create_lookup_tables)"
   ]
  },
  {
   "cell_type": "markdown",
   "metadata": {},
   "source": [
    "# Check Point\n",
    "This is your first checkpoint. If you ever decide to come back to this notebook or have to restart the notebook, you can start from here. The preprocessed data has been saved to disk."
   ]
  },
  {
   "cell_type": "code",
   "execution_count": 55,
   "metadata": {},
   "outputs": [],
   "source": [
    "\"\"\"\n",
    "DON'T MODIFY ANYTHING IN THIS CELL\n",
    "\"\"\"\n",
    "import helper\n",
    "import numpy as np\n",
    "import problem_unittests as tests\n",
    "\n",
    "int_text, vocab_to_int, int_to_vocab, token_dict = helper.load_preprocess()"
   ]
  },
  {
   "cell_type": "markdown",
   "metadata": {},
   "source": [
    "## Build the Neural Network\n",
    "You'll build the components necessary to build a RNN by implementing the following functions below:\n",
    "- get_inputs\n",
    "- get_init_cell\n",
    "- get_embed\n",
    "- build_rnn\n",
    "- build_nn\n",
    "- get_batches\n",
    "\n",
    "### Check the Version of TensorFlow and Access to GPU"
   ]
  },
  {
   "cell_type": "code",
   "execution_count": 56,
   "metadata": {},
   "outputs": [
    {
     "name": "stdout",
     "output_type": "stream",
     "text": [
      "TensorFlow Version: 1.0.0\n"
     ]
    },
    {
     "name": "stderr",
     "output_type": "stream",
     "text": [
      "/Users/dtaniguchi/anaconda/envs/tensorflow11/lib/python3.5/site-packages/ipykernel_launcher.py:15: UserWarning: No GPU found. Please use a GPU to train your neural network.\n",
      "  from ipykernel import kernelapp as app\n"
     ]
    }
   ],
   "source": [
    "\"\"\"\n",
    "DON'T MODIFY ANYTHING IN THIS CELL\n",
    "\"\"\"\n",
    "from distutils.version import LooseVersion\n",
    "import warnings\n",
    "\n",
    "#!pip install -U tensorflow==1.0 #I added this in because of dimension problems in the unit test\n",
    "import tensorflow as tf\n",
    "# Check TensorFlow Version\n",
    "assert LooseVersion(tf.__version__) >= LooseVersion('1.0'), 'Please use TensorFlow version 1.0 or newer'\n",
    "print('TensorFlow Version: {}'.format(tf.__version__))\n",
    "\n",
    "# Check for a GPU\n",
    "if not tf.test.gpu_device_name():\n",
    "    warnings.warn('No GPU found. Please use a GPU to train your neural network.')\n",
    "else:\n",
    "    print('Default GPU Device: {}'.format(tf.test.gpu_device_name()))"
   ]
  },
  {
   "cell_type": "markdown",
   "metadata": {},
   "source": [
    "### Input\n",
    "Implement the `get_inputs()` function to create TF Placeholders for the Neural Network.  It should create the following placeholders:\n",
    "- Input text placeholder named \"input\" using the [TF Placeholder](https://www.tensorflow.org/api_docs/python/tf/placeholder) `name` parameter.\n",
    "- Targets placeholder\n",
    "- Learning Rate placeholder\n",
    "\n",
    "Return the placeholders in the following tuple `(Input, Targets, LearningRate)`"
   ]
  },
  {
   "cell_type": "code",
   "execution_count": 57,
   "metadata": {},
   "outputs": [
    {
     "name": "stdout",
     "output_type": "stream",
     "text": [
      "Tests Passed\n"
     ]
    }
   ],
   "source": [
    "def get_inputs():\n",
    "    \"\"\"\n",
    "    Create TF Placeholders for input, targets, and learning rate.\n",
    "    :return: Tuple (input, targets, learning rate)\n",
    "    \"\"\"\n",
    "    # TODO: Implement Function\n",
    "    # May need the following, I'm not sure:\n",
    "#     train_graph = tf.Graph()\n",
    "#     with train_graph.as_default():\n",
    "        \n",
    "    input_ = tf.placeholder(tf.int32,shape=[None,None],name='input')\n",
    "    targets_ = tf.placeholder(tf.int32,shape=[None,None],name='targets')\n",
    "    learning_rate = tf.placeholder(tf.float32,name='learning_rate')\n",
    "    return (input_, targets_, learning_rate)\n",
    "\n",
    "\n",
    "\"\"\"\n",
    "DON'T MODIFY ANYTHING IN THIS CELL THAT IS BELOW THIS LINE\n",
    "\"\"\"\n",
    "tests.test_get_inputs(get_inputs)"
   ]
  },
  {
   "cell_type": "markdown",
   "metadata": {},
   "source": [
    "### Build RNN Cell and Initialize\n",
    "Stack one or more [`BasicLSTMCells`](https://www.tensorflow.org/api_docs/python/tf/contrib/rnn/BasicLSTMCell) in a [`MultiRNNCell`](https://www.tensorflow.org/api_docs/python/tf/contrib/rnn/MultiRNNCell).\n",
    "- The Rnn size should be set using `rnn_size`\n",
    "- Initalize Cell State using the MultiRNNCell's [`zero_state()`](https://www.tensorflow.org/api_docs/python/tf/contrib/rnn/MultiRNNCell#zero_state) function\n",
    "    - Apply the name \"initial_state\" to the initial state using [`tf.identity()`](https://www.tensorflow.org/api_docs/python/tf/identity)\n",
    "\n",
    "Return the cell and initial state in the following tuple `(Cell, InitialState)`"
   ]
  },
  {
   "cell_type": "code",
   "execution_count": 58,
   "metadata": {},
   "outputs": [
    {
     "name": "stdout",
     "output_type": "stream",
     "text": [
      "Tests Passed\n"
     ]
    }
   ],
   "source": [
    "def get_init_cell(batch_size, rnn_size):\n",
    "    \"\"\"\n",
    "    Create an RNN Cell and initialize it.\n",
    "    :param batch_size: Size of batches\n",
    "    :param rnn_size: Size of RNNs\n",
    "    :return: Tuple (cell, initialize state)\n",
    "    \"\"\"\n",
    "    # TODO: Implement Function\n",
    "    lstm = tf.contrib.rnn.BasicLSTMCell(num_units=rnn_size)\n",
    "    lstm_layers = 2 #I added this in; number of lstm_layers\n",
    "#     cell = tf.contrib.rnn.MultiRNNCell([lstm]*lstm_layers)\n",
    "    drop = tf.contrib.rnn.DropoutWrapper(lstm,output_keep_prob=0.5)\n",
    "    cell = tf.contrib.rnn.MultiRNNCell([drop]*lstm_layers)\n",
    "    initial_state_ = cell.zero_state(batch_size,tf.float32)\n",
    "    initial_state = tf.identity(initial_state_,name='initial_state')\n",
    "    return (cell, initial_state)\n",
    "\n",
    "\n",
    "\"\"\"\n",
    "DON'T MODIFY ANYTHING IN THIS CELL THAT IS BELOW THIS LINE\n",
    "\"\"\"\n",
    "tests.test_get_init_cell(get_init_cell)"
   ]
  },
  {
   "cell_type": "markdown",
   "metadata": {},
   "source": [
    "### Word Embedding\n",
    "Apply embedding to `input_data` using TensorFlow.  Return the embedded sequence."
   ]
  },
  {
   "cell_type": "code",
   "execution_count": 59,
   "metadata": {},
   "outputs": [
    {
     "name": "stdout",
     "output_type": "stream",
     "text": [
      "Tests Passed\n"
     ]
    }
   ],
   "source": [
    "def get_embed(input_data, vocab_size, embed_dim):\n",
    "    \"\"\"\n",
    "    Create embedding for <input_data>.\n",
    "    :param input_data: TF placeholder for text input.\n",
    "    :param vocab_size: Number of words in vocabulary.\n",
    "    :param embed_dim: Number of embedding dimensions\n",
    "    :return: Embedded input.\n",
    "    \"\"\"\n",
    "    # TODO: Implement Function\n",
    "    embedding = tf.Variable(tf.random_uniform(shape=(vocab_size,embed_dim),minval=-1,maxval=1))\n",
    "    embed = tf.nn.embedding_lookup(embedding,input_data)\n",
    "    return embed\n",
    "\n",
    "\n",
    "\"\"\"\n",
    "DON'T MODIFY ANYTHING IN THIS CELL THAT IS BELOW THIS LINE\n",
    "\"\"\"\n",
    "tests.test_get_embed(get_embed)"
   ]
  },
  {
   "cell_type": "markdown",
   "metadata": {},
   "source": [
    "### Build RNN\n",
    "You created a RNN Cell in the `get_init_cell()` function.  Time to use the cell to create a RNN.\n",
    "- Build the RNN using the [`tf.nn.dynamic_rnn()`](https://www.tensorflow.org/api_docs/python/tf/nn/dynamic_rnn)\n",
    " - Apply the name \"final_state\" to the final state using [`tf.identity()`](https://www.tensorflow.org/api_docs/python/tf/identity)\n",
    "\n",
    "Return the outputs and final_state state in the following tuple `(Outputs, FinalState)` "
   ]
  },
  {
   "cell_type": "code",
   "execution_count": 60,
   "metadata": {},
   "outputs": [
    {
     "name": "stdout",
     "output_type": "stream",
     "text": [
      "Tests Passed\n"
     ]
    }
   ],
   "source": [
    "def build_rnn(cell, inputs):\n",
    "    \"\"\"\n",
    "    Create a RNN using a RNN Cell\n",
    "    :param cell: RNN Cell\n",
    "    :param inputs: Input text data\n",
    "    :return: Tuple (Outputs, Final State)\n",
    "    \"\"\"\n",
    "    # TODO: Implement Function\n",
    "    outputs, final_state_ = tf.nn.dynamic_rnn(cell=cell, inputs=inputs,dtype = tf.float32)\n",
    "    final_state = tf.identity(final_state_,name='final_state')\n",
    "    return (outputs, final_state)\n",
    "\n",
    "\n",
    "\"\"\"\n",
    "DON'T MODIFY ANYTHING IN THIS CELL THAT IS BELOW THIS LINE\n",
    "\"\"\"\n",
    "tests.test_build_rnn(build_rnn)"
   ]
  },
  {
   "cell_type": "markdown",
   "metadata": {},
   "source": [
    "### Build the Neural Network\n",
    "Apply the functions you implemented above to:\n",
    "- Apply embedding to `input_data` using your `get_embed(input_data, vocab_size, embed_dim)` function.\n",
    "- Build RNN using `cell` and your `build_rnn(cell, inputs)` function.\n",
    "- Apply a fully connected layer with a linear activation and `vocab_size` as the number of outputs.\n",
    "\n",
    "Return the logits and final state in the following tuple (Logits, FinalState) "
   ]
  },
  {
   "cell_type": "code",
   "execution_count": 62,
   "metadata": {},
   "outputs": [
    {
     "name": "stdout",
     "output_type": "stream",
     "text": [
      "Tests Passed\n"
     ]
    }
   ],
   "source": [
    "def build_nn(cell, rnn_size, input_data, vocab_size, embed_dim):\n",
    "    \"\"\"\n",
    "    Build part of the neural network\n",
    "    :param cell: RNN cell\n",
    "    :param rnn_size: Size of rnns\n",
    "    :param input_data: Input data\n",
    "    :param vocab_size: Vocabulary size\n",
    "    :param embed_dim: Number of embedding dimensions\n",
    "    :return: Tuple (Logits, FinalState)\n",
    "    \"\"\"\n",
    "    # TODO: Implement Function\n",
    "    embed_val = get_embed(input_data,vocab_size, embed_dim)\n",
    "    output, final_state = build_rnn(cell,embed_val)\n",
    "    init_weight = tf.truncated_normal_initializer(stddev=0.1)\n",
    "    init_bias = tf.zeros_initializer()\n",
    "    logits = tf.contrib.layers.fully_connected(inputs = output, num_outputs = vocab_size, activation_fn=None, weights_initializer = init_weight, biases_initializer = init_bias)\n",
    "    return (logits, final_state)\n",
    "\n",
    "\n",
    "\"\"\"\n",
    "DON'T MODIFY ANYTHING IN THIS CELL THAT IS BELOW THIS LINE\n",
    "\"\"\"\n",
    "tests.test_build_nn(build_nn)"
   ]
  },
  {
   "cell_type": "code",
   "execution_count": 63,
   "metadata": {},
   "outputs": [],
   "source": [
    "import math\n",
    "\n",
    "test = [1, 2, 3, 4, 5, 6, 7, 8, 9, 10, 11, 12, 13, 14, 15, 16, 17, 18, 19, 20]\n",
    "batch_size = 3 #number of sequences we're using\n",
    "sequence_length = 2\n",
    "num_batches = math.floor(len(test)/sequence_length/batch_size)\n",
    "num_values = sequence_length *num_batches*batch_size\n",
    "test2 = test[:num_values]\n",
    "temp = np.reshape(test2,(-1, sequence_length))\n",
    "\n",
    "target1 = [test2[0]]\n",
    "test3 = test2[1:]\n",
    "targets = test3 + target1\n",
    "\n",
    "out = []\n",
    "temp2 = np.reshape(temp,(batch_size,num_batches, sequence_length))\n",
    "targets2 = np.reshape(targets,(batch_size,num_batches,sequence_length))\n",
    "\n",
    "\n",
    "for i in range(num_batches):\n",
    "    b = []#inputs\n",
    "    c = [] # targets\n",
    "    d = []#inputs and targets\n",
    "    for j in range(batch_size):\n",
    "        b.append(temp2[j,i].tolist()) \n",
    "        c.append(targets2[j,i].tolist())\n",
    "    d = [b,c]\n",
    "    out.append(d)\n"
   ]
  },
  {
   "cell_type": "markdown",
   "metadata": {},
   "source": [
    "### Batches\n",
    "Implement `get_batches` to create batches of input and targets using `int_text`.  The batches should be a Numpy array with the shape `(number of batches, 2, batch size, sequence length)`. Each batch contains two elements:\n",
    "- The first element is a single batch of **input** with the shape `[batch size, sequence length]`\n",
    "- The second element is a single batch of **targets** with the shape `[batch size, sequence length]`\n",
    "\n",
    "If you can't fill the last batch with enough data, drop the last batch.\n",
    "\n",
    "For exmple, `get_batches([1, 2, 3, 4, 5, 6, 7, 8, 9, 10, 11, 12, 13, 14, 15, 16, 17, 18, 19, 20], 3, 2)` would return a Numpy array of the following:\n",
    "```\n",
    "[\n",
    "  # First Batch\n",
    "  [\n",
    "    # Batch of Input\n",
    "    [[ 1  2], [ 7  8], [13 14]]\n",
    "    # Batch of targets\n",
    "    [[ 2  3], [ 8  9], [14 15]]\n",
    "  ]\n",
    "\n",
    "  # Second Batch\n",
    "  [\n",
    "    # Batch of Input\n",
    "    [[ 3  4], [ 9 10], [15 16]]\n",
    "    # Batch of targets\n",
    "    [[ 4  5], [10 11], [16 17]]\n",
    "  ]\n",
    "\n",
    "  # Third Batch\n",
    "  [\n",
    "    # Batch of Input\n",
    "    [[ 5  6], [11 12], [17 18]]\n",
    "    # Batch of targets\n",
    "    [[ 6  7], [12 13], [18  1]]\n",
    "  ]\n",
    "]\n",
    "```\n",
    "\n",
    "Notice that the last target value in the last batch is the first input value of the first batch. In this case, `1`. This is a common technique used when creating sequence batches, although it is rather unintuitive."
   ]
  },
  {
   "cell_type": "code",
   "execution_count": 64,
   "metadata": {},
   "outputs": [
    {
     "name": "stdout",
     "output_type": "stream",
     "text": [
      "Tests Passed\n"
     ]
    }
   ],
   "source": [
    "import math\n",
    "def get_batches(int_text, batch_size, seq_length):\n",
    "    \"\"\"\n",
    "    Return batches of input and target\n",
    "    :param int_text: Text with the words replaced by their ids\n",
    "    :param batch_size: The size of batch\n",
    "    :param seq_length: The length of sequence\n",
    "    :return: Batches as a Numpy array\n",
    "    \"\"\"\n",
    "    # TODO: Implement Function\n",
    "    num_batches = math.floor(len(int_text)/seq_length/batch_size)\n",
    "    num_values = seq_length *num_batches*batch_size\n",
    "    test2 = int_text[:num_values]\n",
    "    temp = np.reshape(test2,(-1, seq_length))\n",
    "\n",
    "    target1 = [test2[0]]\n",
    "    test3 = test2[1:]\n",
    "    targets = test3 + target1\n",
    "\n",
    "    out = []\n",
    "    temp2 = np.reshape(temp,(batch_size,num_batches, seq_length))\n",
    "    targets2 = np.reshape(targets,(batch_size,num_batches,seq_length))\n",
    "\n",
    "\n",
    "    for i in range(num_batches):\n",
    "        b = []#inputs\n",
    "        c = [] # targets\n",
    "        d = []#inputs and targets\n",
    "        for j in range(batch_size):\n",
    "            b.append(temp2[j,i].tolist()) \n",
    "            c.append(targets2[j,i].tolist())\n",
    "        d = [b,c]\n",
    "        out.append(d)\n",
    "    final_out = np.array(out)\n",
    "    return final_out\n",
    "\n",
    "\n",
    "\"\"\"\n",
    "DON'T MODIFY ANYTHING IN THIS CELL THAT IS BELOW THIS LINE\n",
    "\"\"\"\n",
    "tests.test_get_batches(get_batches)"
   ]
  },
  {
   "cell_type": "markdown",
   "metadata": {},
   "source": [
    "## Neural Network Training\n",
    "### Hyperparameters\n",
    "Tune the following parameters:\n",
    "\n",
    "- Set `num_epochs` to the number of epochs.\n",
    "- Set `batch_size` to the batch size.\n",
    "- Set `rnn_size` to the size of the RNNs.\n",
    "- Set `embed_dim` to the size of the embedding.\n",
    "- Set `seq_length` to the length of sequence.\n",
    "- Set `learning_rate` to the learning rate.\n",
    "- Set `show_every_n_batches` to the number of batches the neural network should print progress."
   ]
  },
  {
   "cell_type": "code",
   "execution_count": 80,
   "metadata": {},
   "outputs": [],
   "source": [
    "# Number of Epochs\n",
    "num_epochs = 300\n",
    "# Batch Size\n",
    "batch_size = 128\n",
    "# RNN Size\n",
    "rnn_size = 256\n",
    "# Embedding Dimension Size\n",
    "embed_dim = 300\n",
    "# Sequence Length\n",
    "seq_length = 12\n",
    "# Learning Rate\n",
    "learning_rate = 0.005\n",
    "# Show stats for every n number of batches\n",
    "show_every_n_batches = 20\n",
    "\n",
    "\"\"\"\n",
    "DON'T MODIFY ANYTHING IN THIS CELL THAT IS BELOW THIS LINE\n",
    "\"\"\"\n",
    "save_dir = './save'"
   ]
  },
  {
   "cell_type": "markdown",
   "metadata": {},
   "source": [
    "### Build the Graph\n",
    "Build the graph using the neural network you implemented."
   ]
  },
  {
   "cell_type": "code",
   "execution_count": 81,
   "metadata": {},
   "outputs": [],
   "source": [
    "\"\"\"\n",
    "DON'T MODIFY ANYTHING IN THIS CELL\n",
    "\"\"\"\n",
    "from tensorflow.contrib import seq2seq\n",
    "\n",
    "train_graph = tf.Graph()\n",
    "with train_graph.as_default():\n",
    "    vocab_size = len(int_to_vocab)\n",
    "    input_text, targets, lr = get_inputs()\n",
    "    input_data_shape = tf.shape(input_text)\n",
    "    cell, initial_state = get_init_cell(input_data_shape[0], rnn_size)\n",
    "    logits, final_state = build_nn(cell, rnn_size, input_text, vocab_size, embed_dim)\n",
    "\n",
    "    # Probabilities for generating words\n",
    "    probs = tf.nn.softmax(logits, name='probs')\n",
    "\n",
    "    # Loss function\n",
    "    cost = seq2seq.sequence_loss(\n",
    "        logits,\n",
    "        targets,\n",
    "        tf.ones([input_data_shape[0], input_data_shape[1]]))\n",
    "\n",
    "    # Optimizer\n",
    "    optimizer = tf.train.AdamOptimizer(lr)\n",
    "\n",
    "    # Gradient Clipping\n",
    "    gradients = optimizer.compute_gradients(cost)\n",
    "    capped_gradients = [(tf.clip_by_value(grad, -1., 1.), var) for grad, var in gradients if grad is not None]\n",
    "    train_op = optimizer.apply_gradients(capped_gradients)"
   ]
  },
  {
   "cell_type": "markdown",
   "metadata": {},
   "source": [
    "## Train\n",
    "Train the neural network on the preprocessed data.  If you have a hard time getting a good loss, check the [forums](https://discussions.udacity.com/) to see if anyone is having the same problem."
   ]
  },
  {
   "cell_type": "code",
   "execution_count": 82,
   "metadata": {},
   "outputs": [
    {
     "name": "stdout",
     "output_type": "stream",
     "text": [
      "Epoch   0 Batch    0/10   train_loss = 8.832\n",
      "Epoch   2 Batch    0/10   train_loss = 5.740\n",
      "Epoch   4 Batch    0/10   train_loss = 5.240\n",
      "Epoch   6 Batch    0/10   train_loss = 4.908\n",
      "Epoch   8 Batch    0/10   train_loss = 4.676\n",
      "Epoch  10 Batch    0/10   train_loss = 4.440\n",
      "Epoch  12 Batch    0/10   train_loss = 4.262\n",
      "Epoch  14 Batch    0/10   train_loss = 4.121\n",
      "Epoch  16 Batch    0/10   train_loss = 3.950\n",
      "Epoch  18 Batch    0/10   train_loss = 3.802\n",
      "Epoch  20 Batch    0/10   train_loss = 3.675\n",
      "Epoch  22 Batch    0/10   train_loss = 3.563\n",
      "Epoch  24 Batch    0/10   train_loss = 3.481\n",
      "Epoch  26 Batch    0/10   train_loss = 3.313\n",
      "Epoch  28 Batch    0/10   train_loss = 3.213\n",
      "Epoch  30 Batch    0/10   train_loss = 3.081\n",
      "Epoch  32 Batch    0/10   train_loss = 3.051\n",
      "Epoch  34 Batch    0/10   train_loss = 2.989\n",
      "Epoch  36 Batch    0/10   train_loss = 2.849\n",
      "Epoch  38 Batch    0/10   train_loss = 2.742\n",
      "Epoch  40 Batch    0/10   train_loss = 2.704\n",
      "Epoch  42 Batch    0/10   train_loss = 2.697\n",
      "Epoch  44 Batch    0/10   train_loss = 2.639\n",
      "Epoch  46 Batch    0/10   train_loss = 2.538\n",
      "Epoch  48 Batch    0/10   train_loss = 2.435\n",
      "Epoch  50 Batch    0/10   train_loss = 2.366\n",
      "Epoch  52 Batch    0/10   train_loss = 2.285\n",
      "Epoch  54 Batch    0/10   train_loss = 2.228\n",
      "Epoch  56 Batch    0/10   train_loss = 2.222\n",
      "Epoch  58 Batch    0/10   train_loss = 2.142\n",
      "Epoch  60 Batch    0/10   train_loss = 2.147\n",
      "Epoch  62 Batch    0/10   train_loss = 2.133\n",
      "Epoch  64 Batch    0/10   train_loss = 2.079\n",
      "Epoch  66 Batch    0/10   train_loss = 2.016\n",
      "Epoch  68 Batch    0/10   train_loss = 2.002\n",
      "Epoch  70 Batch    0/10   train_loss = 1.925\n",
      "Epoch  72 Batch    0/10   train_loss = 1.892\n",
      "Epoch  74 Batch    0/10   train_loss = 1.896\n",
      "Epoch  76 Batch    0/10   train_loss = 1.875\n",
      "Epoch  78 Batch    0/10   train_loss = 1.867\n",
      "Epoch  80 Batch    0/10   train_loss = 1.818\n",
      "Epoch  82 Batch    0/10   train_loss = 1.821\n",
      "Epoch  84 Batch    0/10   train_loss = 1.755\n",
      "Epoch  86 Batch    0/10   train_loss = 1.723\n",
      "Epoch  88 Batch    0/10   train_loss = 1.665\n",
      "Epoch  90 Batch    0/10   train_loss = 1.653\n",
      "Epoch  92 Batch    0/10   train_loss = 1.639\n",
      "Epoch  94 Batch    0/10   train_loss = 1.595\n",
      "Epoch  96 Batch    0/10   train_loss = 1.565\n",
      "Epoch  98 Batch    0/10   train_loss = 1.533\n",
      "Epoch 100 Batch    0/10   train_loss = 1.544\n",
      "Epoch 102 Batch    0/10   train_loss = 1.531\n",
      "Epoch 104 Batch    0/10   train_loss = 1.513\n",
      "Epoch 106 Batch    0/10   train_loss = 1.506\n",
      "Epoch 108 Batch    0/10   train_loss = 1.470\n",
      "Epoch 110 Batch    0/10   train_loss = 1.458\n",
      "Epoch 112 Batch    0/10   train_loss = 1.437\n",
      "Epoch 114 Batch    0/10   train_loss = 1.416\n",
      "Epoch 116 Batch    0/10   train_loss = 1.443\n",
      "Epoch 118 Batch    0/10   train_loss = 1.423\n",
      "Epoch 120 Batch    0/10   train_loss = 1.390\n",
      "Epoch 122 Batch    0/10   train_loss = 1.343\n",
      "Epoch 124 Batch    0/10   train_loss = 1.324\n",
      "Epoch 126 Batch    0/10   train_loss = 1.341\n",
      "Epoch 128 Batch    0/10   train_loss = 1.306\n",
      "Epoch 130 Batch    0/10   train_loss = 1.290\n",
      "Epoch 132 Batch    0/10   train_loss = 1.284\n",
      "Epoch 134 Batch    0/10   train_loss = 1.246\n",
      "Epoch 136 Batch    0/10   train_loss = 1.243\n",
      "Epoch 138 Batch    0/10   train_loss = 1.263\n",
      "Epoch 140 Batch    0/10   train_loss = 1.241\n",
      "Epoch 142 Batch    0/10   train_loss = 1.237\n",
      "Epoch 144 Batch    0/10   train_loss = 1.224\n",
      "Epoch 146 Batch    0/10   train_loss = 1.206\n",
      "Epoch 148 Batch    0/10   train_loss = 1.192\n",
      "Epoch 150 Batch    0/10   train_loss = 1.189\n",
      "Epoch 152 Batch    0/10   train_loss = 1.204\n",
      "Epoch 154 Batch    0/10   train_loss = 1.186\n",
      "Epoch 156 Batch    0/10   train_loss = 1.139\n",
      "Epoch 158 Batch    0/10   train_loss = 1.140\n",
      "Epoch 160 Batch    0/10   train_loss = 1.144\n",
      "Epoch 162 Batch    0/10   train_loss = 1.137\n",
      "Epoch 164 Batch    0/10   train_loss = 1.134\n",
      "Epoch 166 Batch    0/10   train_loss = 1.125\n",
      "Epoch 168 Batch    0/10   train_loss = 1.126\n",
      "Epoch 170 Batch    0/10   train_loss = 1.088\n",
      "Epoch 172 Batch    0/10   train_loss = 1.071\n",
      "Epoch 174 Batch    0/10   train_loss = 1.077\n",
      "Epoch 176 Batch    0/10   train_loss = 1.063\n",
      "Epoch 178 Batch    0/10   train_loss = 1.065\n",
      "Epoch 180 Batch    0/10   train_loss = 1.035\n",
      "Epoch 182 Batch    0/10   train_loss = 1.038\n",
      "Epoch 184 Batch    0/10   train_loss = 1.010\n",
      "Epoch 186 Batch    0/10   train_loss = 1.013\n",
      "Epoch 188 Batch    0/10   train_loss = 0.998\n",
      "Epoch 190 Batch    0/10   train_loss = 0.984\n",
      "Epoch 192 Batch    0/10   train_loss = 1.020\n",
      "Epoch 194 Batch    0/10   train_loss = 0.996\n",
      "Epoch 196 Batch    0/10   train_loss = 1.024\n",
      "Epoch 198 Batch    0/10   train_loss = 0.970\n",
      "Epoch 200 Batch    0/10   train_loss = 0.979\n",
      "Epoch 202 Batch    0/10   train_loss = 0.956\n",
      "Epoch 204 Batch    0/10   train_loss = 0.975\n",
      "Epoch 206 Batch    0/10   train_loss = 0.965\n",
      "Epoch 208 Batch    0/10   train_loss = 0.965\n",
      "Epoch 210 Batch    0/10   train_loss = 0.952\n",
      "Epoch 212 Batch    0/10   train_loss = 0.935\n",
      "Epoch 214 Batch    0/10   train_loss = 0.955\n",
      "Epoch 216 Batch    0/10   train_loss = 0.950\n",
      "Epoch 218 Batch    0/10   train_loss = 0.925\n",
      "Epoch 220 Batch    0/10   train_loss = 0.903\n",
      "Epoch 222 Batch    0/10   train_loss = 0.891\n",
      "Epoch 224 Batch    0/10   train_loss = 0.925\n",
      "Epoch 226 Batch    0/10   train_loss = 0.918\n",
      "Epoch 228 Batch    0/10   train_loss = 0.917\n",
      "Epoch 230 Batch    0/10   train_loss = 0.876\n",
      "Epoch 232 Batch    0/10   train_loss = 0.874\n",
      "Epoch 234 Batch    0/10   train_loss = 0.903\n",
      "Epoch 236 Batch    0/10   train_loss = 0.868\n",
      "Epoch 238 Batch    0/10   train_loss = 0.865\n",
      "Epoch 240 Batch    0/10   train_loss = 0.863\n",
      "Epoch 242 Batch    0/10   train_loss = 0.860\n",
      "Epoch 244 Batch    0/10   train_loss = 0.838\n",
      "Epoch 246 Batch    0/10   train_loss = 0.834\n",
      "Epoch 248 Batch    0/10   train_loss = 0.847\n",
      "Epoch 250 Batch    0/10   train_loss = 0.841\n",
      "Epoch 252 Batch    0/10   train_loss = 0.836\n",
      "Epoch 254 Batch    0/10   train_loss = 0.814\n",
      "Epoch 256 Batch    0/10   train_loss = 0.838\n",
      "Epoch 258 Batch    0/10   train_loss = 0.812\n",
      "Epoch 260 Batch    0/10   train_loss = 0.797\n",
      "Epoch 262 Batch    0/10   train_loss = 0.811\n",
      "Epoch 264 Batch    0/10   train_loss = 0.816\n",
      "Epoch 266 Batch    0/10   train_loss = 0.794\n",
      "Epoch 268 Batch    0/10   train_loss = 0.797\n",
      "Epoch 270 Batch    0/10   train_loss = 0.787\n",
      "Epoch 272 Batch    0/10   train_loss = 0.804\n",
      "Epoch 274 Batch    0/10   train_loss = 0.790\n",
      "Epoch 276 Batch    0/10   train_loss = 0.793\n",
      "Epoch 278 Batch    0/10   train_loss = 0.790\n",
      "Epoch 280 Batch    0/10   train_loss = 0.788\n",
      "Epoch 282 Batch    0/10   train_loss = 0.789\n",
      "Epoch 284 Batch    0/10   train_loss = 0.756\n",
      "Epoch 286 Batch    0/10   train_loss = 0.768\n",
      "Epoch 288 Batch    0/10   train_loss = 0.788\n",
      "Epoch 290 Batch    0/10   train_loss = 0.771\n",
      "Epoch 292 Batch    0/10   train_loss = 0.756\n",
      "Epoch 294 Batch    0/10   train_loss = 0.728\n",
      "Epoch 296 Batch    0/10   train_loss = 0.738\n",
      "Epoch 298 Batch    0/10   train_loss = 0.754\n",
      "Model Trained and Saved\n"
     ]
    }
   ],
   "source": [
    "\"\"\"\n",
    "DON'T MODIFY ANYTHING IN THIS CELL\n",
    "\"\"\"\n",
    "batches = get_batches(int_text, batch_size, seq_length)\n",
    "\n",
    "with tf.Session(graph=train_graph) as sess:\n",
    "    sess.run(tf.global_variables_initializer())\n",
    "\n",
    "    for epoch_i in range(num_epochs):\n",
    "        state = sess.run(initial_state, {input_text: batches[0][0]})\n",
    "\n",
    "        for batch_i, (x, y) in enumerate(batches):\n",
    "            feed = {\n",
    "                input_text: x,\n",
    "                targets: y,\n",
    "                initial_state: state,\n",
    "                lr: learning_rate}\n",
    "            train_loss, state, _ = sess.run([cost, final_state, train_op], feed)\n",
    "\n",
    "            # Show every <show_every_n_batches> batches\n",
    "            if (epoch_i * len(batches) + batch_i) % show_every_n_batches == 0:\n",
    "                print('Epoch {:>3} Batch {:>4}/{}   train_loss = {:.3f}'.format(\n",
    "                    epoch_i,\n",
    "                    batch_i,\n",
    "                    len(batches),\n",
    "                    train_loss))\n",
    "\n",
    "    # Save Model\n",
    "    saver = tf.train.Saver()\n",
    "    saver.save(sess, save_dir)\n",
    "    print('Model Trained and Saved')"
   ]
  },
  {
   "cell_type": "markdown",
   "metadata": {},
   "source": [
    "## Save Parameters\n",
    "Save `seq_length` and `save_dir` for generating a new TV script."
   ]
  },
  {
   "cell_type": "code",
   "execution_count": 83,
   "metadata": {},
   "outputs": [],
   "source": [
    "\"\"\"\n",
    "DON'T MODIFY ANYTHING IN THIS CELL\n",
    "\"\"\"\n",
    "# Save parameters for checkpoint\n",
    "helper.save_params((seq_length, save_dir))"
   ]
  },
  {
   "cell_type": "markdown",
   "metadata": {},
   "source": [
    "# Checkpoint"
   ]
  },
  {
   "cell_type": "code",
   "execution_count": 84,
   "metadata": {},
   "outputs": [],
   "source": [
    "\"\"\"\n",
    "DON'T MODIFY ANYTHING IN THIS CELL\n",
    "\"\"\"\n",
    "import tensorflow as tf\n",
    "import numpy as np\n",
    "import helper\n",
    "import problem_unittests as tests\n",
    "\n",
    "_, vocab_to_int, int_to_vocab, token_dict = helper.load_preprocess()\n",
    "seq_length, load_dir = helper.load_params()"
   ]
  },
  {
   "cell_type": "markdown",
   "metadata": {},
   "source": [
    "## Implement Generate Functions\n",
    "### Get Tensors\n",
    "Get tensors from `loaded_graph` using the function [`get_tensor_by_name()`](https://www.tensorflow.org/api_docs/python/tf/Graph#get_tensor_by_name).  Get the tensors using the following names:\n",
    "- \"input:0\"\n",
    "- \"initial_state:0\"\n",
    "- \"final_state:0\"\n",
    "- \"probs:0\"\n",
    "\n",
    "Return the tensors in the following tuple `(InputTensor, InitialStateTensor, FinalStateTensor, ProbsTensor)` "
   ]
  },
  {
   "cell_type": "code",
   "execution_count": 85,
   "metadata": {},
   "outputs": [
    {
     "name": "stdout",
     "output_type": "stream",
     "text": [
      "Tests Passed\n"
     ]
    }
   ],
   "source": [
    "def get_tensors(loaded_graph):\n",
    "    \"\"\"\n",
    "    Get input, initial state, final state, and probabilities tensor from <loaded_graph>\n",
    "    :param loaded_graph: TensorFlow graph loaded from file\n",
    "    :return: Tuple (InputTensor, InitialStateTensor, FinalStateTensor, ProbsTensor)\n",
    "    \"\"\"\n",
    "    # TODO: Implement Function\n",
    "    input_tensor = loaded_graph.get_tensor_by_name('input:0')\n",
    "    initial_state_tensor = loaded_graph.get_tensor_by_name('initial_state:0')\n",
    "    final_state_tensor = loaded_graph.get_tensor_by_name('final_state:0')\n",
    "    probs_tensor = loaded_graph.get_tensor_by_name('probs:0')\n",
    "    return input_tensor, initial_state_tensor, final_state_tensor, probs_tensor\n",
    "\n",
    "\n",
    "\"\"\"\n",
    "DON'T MODIFY ANYTHING IN THIS CELL THAT IS BELOW THIS LINE\n",
    "\"\"\"\n",
    "tests.test_get_tensors(get_tensors)"
   ]
  },
  {
   "cell_type": "markdown",
   "metadata": {},
   "source": [
    "### Choose Word\n",
    "Implement the `pick_word()` function to select the next word using `probabilities`."
   ]
  },
  {
   "cell_type": "code",
   "execution_count": 86,
   "metadata": {},
   "outputs": [
    {
     "name": "stdout",
     "output_type": "stream",
     "text": [
      "Tests Passed\n"
     ]
    }
   ],
   "source": [
    "def pick_word(probabilities, int_to_vocab):\n",
    "    \"\"\"\n",
    "    Pick the next word in the generated text\n",
    "    :param probabilities: Probabilites of the next word\n",
    "    :param int_to_vocab: Dictionary of word ids as the keys and words as the values\n",
    "    :return: String of the predicted word\n",
    "    \"\"\"\n",
    "    # TODO: Implement Function\n",
    "    integer = np.random.choice(len(int_to_vocab),p=probabilities)\n",
    "    word = int_to_vocab[integer]\n",
    "    return word\n",
    "\n",
    "\n",
    "\"\"\"\n",
    "DON'T MODIFY ANYTHING IN THIS CELL THAT IS BELOW THIS LINE\n",
    "\"\"\"\n",
    "tests.test_pick_word(pick_word)"
   ]
  },
  {
   "cell_type": "markdown",
   "metadata": {},
   "source": [
    "## Generate TV Script\n",
    "This will generate the TV script for you.  Set `gen_length` to the length of TV script you want to generate."
   ]
  },
  {
   "cell_type": "code",
   "execution_count": 87,
   "metadata": {},
   "outputs": [
    {
     "name": "stdout",
     "output_type": "stream",
     "text": [
      "moe_szyslak: power friend, baby... look at you all...\n",
      "moe_szyslak:(exasperated noise) she had to her house, and what do we have to buy him the cash,\" three youse\"...\"\n",
      "moe_szyslak: uh-oh, sure is first night. but i did, i'd just looking up can all the college that just is laughs.\n",
      "homer_simpson: aw hey, can't a good boy, sir, a little chick.\n",
      "homer_simpson: oh, oh, i'm afraid all right.\n",
      "homer_simpson: i hope sweet news down is a winch.\n",
      "mayor_joe_quimby: if they shoot the baby open? i'm walks your)\n",
      "moe_szyslak: uh, thanks night!\n",
      "moe_szyslak: well, well, i ain't never hang made a out of this kinda people doubt stick.\n",
      "carl_carlson: huh? we're goin' to you guys alone, you can do...\n",
      "ralph_wiggum:(quiet here, then) i need no more.\n",
      "smokin'_joe_frazier: dad, it's not a good man.\n",
      "homer_simpson:(sly) hey, i think we dump too much\n"
     ]
    }
   ],
   "source": [
    "gen_length = 202\n",
    "# homer_simpson, moe_szyslak, or Barney_Gumble\n",
    "prime_word = 'moe_szyslak'\n",
    "\n",
    "\"\"\"\n",
    "DON'T MODIFY ANYTHING IN THIS CELL THAT IS BELOW THIS LINE\n",
    "\"\"\"\n",
    "loaded_graph = tf.Graph()\n",
    "with tf.Session(graph=loaded_graph) as sess:\n",
    "    # Load saved model\n",
    "    loader = tf.train.import_meta_graph(load_dir + '.meta')\n",
    "    loader.restore(sess, load_dir)\n",
    "\n",
    "    # Get Tensors from loaded model\n",
    "    input_text, initial_state, final_state, probs = get_tensors(loaded_graph)\n",
    "\n",
    "    # Sentences generation setup\n",
    "    gen_sentences = [prime_word + ':']\n",
    "    prev_state = sess.run(initial_state, {input_text: np.array([[1]])})\n",
    "\n",
    "    # Generate sentences\n",
    "    for n in range(gen_length):\n",
    "        # Dynamic Input\n",
    "        dyn_input = [[vocab_to_int[word] for word in gen_sentences[-seq_length:]]]\n",
    "        dyn_seq_length = len(dyn_input[0])\n",
    "\n",
    "        # Get Prediction\n",
    "        probabilities, prev_state = sess.run(\n",
    "            [probs, final_state],\n",
    "            {input_text: dyn_input, initial_state: prev_state})\n",
    "        \n",
    "        pred_word = pick_word(probabilities[dyn_seq_length-1], int_to_vocab)\n",
    "\n",
    "        gen_sentences.append(pred_word)\n",
    "    \n",
    "    # Remove tokens\n",
    "    tv_script = ' '.join(gen_sentences)\n",
    "    for key, token in token_dict.items():\n",
    "        ending = ' ' if key in ['\\n', '(', '\"'] else ''\n",
    "        tv_script = tv_script.replace(' ' + token.lower(), key)\n",
    "    tv_script = tv_script.replace('\\n ', '\\n')\n",
    "    tv_script = tv_script.replace('( ', '(')\n",
    "        \n",
    "    print(tv_script)"
   ]
  },
  {
   "cell_type": "markdown",
   "metadata": {},
   "source": [
    "# The TV Script is Nonsensical\n",
    "It's ok if the TV script doesn't make any sense.  We trained on less than a megabyte of text.  In order to get good results, you'll have to use a smaller vocabulary or get more data.  Luckily there's more data!  As we mentioned in the beggining of this project, this is a subset of [another dataset](https://www.kaggle.com/wcukierski/the-simpsons-by-the-data).  We didn't have you train on all the data, because that would take too long.  However, you are free to train your neural network on all the data.  After you complete the project, of course.\n",
    "# Submitting This Project\n",
    "When submitting this project, make sure to run all the cells before saving the notebook. Save the notebook file as \"dlnd_tv_script_generation.ipynb\" and save it as a HTML file under \"File\" -> \"Download as\". Include the \"helper.py\" and \"problem_unittests.py\" files in your submission."
   ]
  }
 ],
 "metadata": {
  "anaconda-cloud": {},
  "kernelspec": {
   "display_name": "Python [default]",
   "language": "python",
   "name": "python3"
  },
  "language_info": {
   "codemirror_mode": {
    "name": "ipython",
    "version": 3
   },
   "file_extension": ".py",
   "mimetype": "text/x-python",
   "name": "python",
   "nbconvert_exporter": "python",
   "pygments_lexer": "ipython3",
   "version": "3.5.2"
  }
 },
 "nbformat": 4,
 "nbformat_minor": 1
}
